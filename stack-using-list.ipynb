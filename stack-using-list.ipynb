{
 "cells": [
  {
   "cell_type": "code",
   "execution_count": 9,
   "metadata": {},
   "outputs": [
    {
     "name": "stdout",
     "output_type": "stream",
     "text": [
      "Welcome to the penguin stacker...\n",
      "['Emperor', 'Gentoo', 'Macaroni']\n",
      "\n",
      "What would you like to do?\n",
      "1 - Add a penguin to the stack\n",
      "2 - Remove a penguin from the stack\n",
      "3 - View the stack of penguins\n",
      "4 - Exit\n",
      "\n",
      "Select an option (1-4): 2\n",
      "\n",
      "You have removed a Macaroni penguin from the stack\n",
      "\n",
      "What would you like to do?\n",
      "1 - Add a penguin to the stack\n",
      "2 - Remove a penguin from the stack\n",
      "3 - View the stack of penguins\n",
      "4 - Exit\n",
      "\n",
      "Select an option (1-4): 4\n",
      "\n",
      "Goodbye!\n"
     ]
    }
   ],
   "source": [
    "#Stack data structure using list\n",
    "print(\"Welcome to the penguin stacker...\")\n",
    "penguin_stack = [\"Emperor\", \"Gentoo\", \"Macaroni\"]\n",
    "print(penguin_stack)\n",
    "print()\n",
    "\n",
    "status = \"active\"\n",
    "\n",
    "while status == \"active\":\n",
    "    print(\"What would you like to do?\")\n",
    "    print(\"1 - Add a penguin to the stack\")\n",
    "    print(\"2 - Remove a penguin from the stack\")\n",
    "    print(\"3 - View the stack of penguins\")\n",
    "    print(\"4 - Exit\")\n",
    "    print()\n",
    "    option = int(input(\"Select an option (1-4): \"))\n",
    "    print()\n",
    "\n",
    "#Push\n",
    "    if option == 1:\n",
    "        new_penguin = input(\"Enter a type of penguin: \")\n",
    "        penguin_stack.append(new_penguin)\n",
    "        print(f\"You have added {new_penguin} to the stack\")\n",
    "        print()\n",
    "\n",
    "#Pop\n",
    "    elif option == 2:\n",
    "        pop_penguin = penguin_stack[-1]\n",
    "        print(f\"You have removed a {pop_penguin} penguin from the stack\")\n",
    "        print()\n",
    "        penguin_stack.pop()\n",
    "\n",
    "#View\n",
    "    elif option == 3:\n",
    "        print(\"Here is the current stack of penguins...\")\n",
    "        print(penguin_stack)\n",
    "        print()\n",
    "\n",
    "#Exit\n",
    "    elif option == 4:\n",
    "        print(\"Goodbye!\")\n",
    "        status = \"Inactive\"\n",
    "\n",
    "#Error message\n",
    "    else:\n",
    "        print(\"Invalid selection\")\n",
    "        print()\n",
    "    \n",
    "    "
   ]
  },
  {
   "cell_type": "code",
   "execution_count": null,
   "metadata": {},
   "outputs": [],
   "source": []
  }
 ],
 "metadata": {
  "kernelspec": {
   "display_name": "Python 3",
   "language": "python",
   "name": "python3"
  },
  "language_info": {
   "codemirror_mode": {
    "name": "ipython",
    "version": 3
   },
   "file_extension": ".py",
   "mimetype": "text/x-python",
   "name": "python",
   "nbconvert_exporter": "python",
   "pygments_lexer": "ipython3",
   "version": "3.8.3"
  }
 },
 "nbformat": 4,
 "nbformat_minor": 4
}
